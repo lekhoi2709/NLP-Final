{
 "cells": [
  {
   "cell_type": "markdown",
   "metadata": {},
   "source": [
    "### CHAPTER 1"
   ]
  },
  {
   "cell_type": "markdown",
   "metadata": {},
   "source": [
    "Load dataset"
   ]
  },
  {
   "cell_type": "code",
   "execution_count": 23,
   "metadata": {},
   "outputs": [
    {
     "name": "stdout",
     "output_type": "stream",
     "text": [
      "DatasetDict({\n",
      "    train: Dataset({\n",
      "        features: ['text', 'label'],\n",
      "        num_rows: 25000\n",
      "    })\n",
      "    test: Dataset({\n",
      "        features: ['text', 'label'],\n",
      "        num_rows: 25000\n",
      "    })\n",
      "    unsupervised: Dataset({\n",
      "        features: ['text', 'label'],\n",
      "        num_rows: 50000\n",
      "    })\n",
      "})\n"
     ]
    }
   ],
   "source": [
    "from datasets import load_dataset\n",
    "\n",
    "dataset = load_dataset(\"imdb\")\n",
    "\n",
    "train_dataset = dataset[\"train\"].shuffle(seed=42).select(range(1000))\n",
    "test_dataset = dataset[\"test\"].shuffle(seed=42).select(range(500))\n",
    "\n",
    "print(dataset)"
   ]
  },
  {
   "cell_type": "markdown",
   "metadata": {},
   "source": [
    "#### Using BPE"
   ]
  },
  {
   "cell_type": "code",
   "execution_count": 24,
   "metadata": {},
   "outputs": [
    {
     "name": "stderr",
     "output_type": "stream",
     "text": [
      "\n",
      "\u001b[A\n",
      "Map: 100%|██████████| 1000/1000 [00:00<00:00, 2515.93 examples/s]\n",
      "\n",
      "\u001b[A\n",
      "Map: 100%|██████████| 500/500 [00:00<00:00, 3650.41 examples/s]\n"
     ]
    }
   ],
   "source": [
    "from transformers import AutoTokenizer\n",
    "\n",
    "bpe_tokenizer = AutoTokenizer.from_pretrained(\"bert-base-uncased\")\n",
    "\n",
    "def tokenize_bpe(batch):\n",
    "  return bpe_tokenizer(batch['text'], padding='max_length', truncation=True)\n",
    "\n",
    "train_bpe = train_dataset.map(tokenize_bpe, batched=True, remove_columns=[\"text\"])\n",
    "test_bpe = test_dataset.map(tokenize_bpe, batched=True, remove_columns=[\"text\"])\n",
    "\n",
    "train_bpe.set_format(type='torch', columns=['input_ids', 'attention_mask', 'label'])\n",
    "test_bpe.set_format(type='torch', columns=['input_ids', 'attention_mask', 'label'])"
   ]
  },
  {
   "cell_type": "code",
   "execution_count": 29,
   "metadata": {},
   "outputs": [
    {
     "name": "stderr",
     "output_type": "stream",
     "text": [
      "Some weights of BertForSequenceClassification were not initialized from the model checkpoint at bert-base-uncased and are newly initialized: ['classifier.bias', 'classifier.weight']\n",
      "You should probably TRAIN this model on a down-stream task to be able to use it for predictions and inference.\n"
     ]
    }
   ],
   "source": [
    "from transformers import BertForSequenceClassification, Trainer, TrainingArguments\n",
    "from sklearn.metrics import accuracy_score, precision_recall_fscore_support\n",
    "\n",
    "# Train the BERT model with the BPE tokenization\n",
    "model_bpe = BertForSequenceClassification.from_pretrained(\"bert-base-uncased\", num_labels=2)\n",
    "\n",
    "def compute_metrics(pred):\n",
    "\tlabels = pred.label_ids\n",
    "\tpreds = pred.predictions.argmax(-1)\n",
    "\tprecision, recall, f1, _ = precision_recall_fscore_support(labels, preds, average='binary')\n",
    "\tacc = accuracy_score(labels, preds)\n",
    "\treturn {\n",
    "\t\t'accuracy': acc,\n",
    "\t\t'f1': f1,\n",
    "\t\t'precision': precision,\n",
    "\t\t'recall': recall\n",
    "\t}"
   ]
  },
  {
   "cell_type": "code",
   "execution_count": 31,
   "metadata": {},
   "outputs": [
    {
     "name": "stderr",
     "output_type": "stream",
     "text": [
      "  0%|          | 1/375 [27:17<170:10:04, 1637.98s/it]\n",
      "                                                 \n",
      " 33%|███▎      | 125/375 [05:06<09:24,  2.26s/it]"
     ]
    },
    {
     "name": "stdout",
     "output_type": "stream",
     "text": [
      "{'eval_loss': 0.293795645236969, 'eval_accuracy': 0.896, 'eval_f1': 0.8893617021276595, 'eval_precision': 0.9330357142857143, 'eval_recall': 0.8495934959349594, 'eval_runtime': 44.2889, 'eval_samples_per_second': 11.289, 'eval_steps_per_second': 1.422, 'epoch': 1.0}\n"
     ]
    },
    {
     "name": "stderr",
     "output_type": "stream",
     "text": [
      "                                                   \n",
      " 67%|██████▋   | 250/375 [10:54<05:19,  2.55s/it]"
     ]
    },
    {
     "name": "stdout",
     "output_type": "stream",
     "text": [
      "{'eval_loss': 0.3471946716308594, 'eval_accuracy': 0.884, 'eval_f1': 0.8905660377358491, 'eval_precision': 0.8309859154929577, 'eval_recall': 0.959349593495935, 'eval_runtime': 41.1385, 'eval_samples_per_second': 12.154, 'eval_steps_per_second': 1.531, 'epoch': 2.0}\n"
     ]
    },
    {
     "name": "stderr",
     "output_type": "stream",
     "text": [
      "                                                 \n",
      "100%|██████████| 375/375 [16:11<00:00,  2.59s/it]"
     ]
    },
    {
     "name": "stdout",
     "output_type": "stream",
     "text": [
      "{'eval_loss': 0.3431745767593384, 'eval_accuracy': 0.906, 'eval_f1': 0.906187624750499, 'eval_precision': 0.8901960784313725, 'eval_recall': 0.9227642276422764, 'eval_runtime': 40.0338, 'eval_samples_per_second': 12.489, 'eval_steps_per_second': 1.574, 'epoch': 3.0}\n",
      "{'train_runtime': 971.1565, 'train_samples_per_second': 3.089, 'train_steps_per_second': 0.386, 'train_loss': 0.31103653971354167, 'epoch': 3.0}\n"
     ]
    },
    {
     "name": "stderr",
     "output_type": "stream",
     "text": [
      "\n"
     ]
    },
    {
     "data": {
      "text/plain": [
       "TrainOutput(global_step=375, training_loss=0.31103653971354167, metrics={'train_runtime': 971.1565, 'train_samples_per_second': 3.089, 'train_steps_per_second': 0.386, 'total_flos': 789333166080000.0, 'train_loss': 0.31103653971354167, 'epoch': 3.0})"
      ]
     },
     "execution_count": 31,
     "metadata": {},
     "output_type": "execute_result"
    }
   ],
   "source": [
    "training_args = TrainingArguments(\n",
    "\toutput_dir='./results_bpe',\n",
    "\tnum_train_epochs=3,\n",
    "\tper_device_train_batch_size=8,\n",
    "\tper_device_eval_batch_size=8,\n",
    "\tevaluation_strategy='epoch',\n",
    "\tlogging_dir='./logs_bpe',\n",
    "  learning_rate=2e-5,\n",
    ")\n",
    "\n",
    "trainer_bpe = Trainer(\n",
    "\tmodel=model_bpe,\n",
    "\targs=training_args,\n",
    "\ttrain_dataset=train_bpe,\n",
    "\teval_dataset=test_bpe,\n",
    "  compute_metrics=compute_metrics\n",
    ")\n",
    "\n",
    "trainer_bpe.train()"
   ]
  },
  {
   "cell_type": "code",
   "execution_count": 32,
   "metadata": {},
   "outputs": [
    {
     "name": "stderr",
     "output_type": "stream",
     "text": [
      "100%|██████████| 63/63 [00:39<00:00,  1.59it/s]"
     ]
    },
    {
     "name": "stdout",
     "output_type": "stream",
     "text": [
      "BERT with BPE Evaluation Results: {'eval_loss': 0.3431745767593384, 'eval_accuracy': 0.906, 'eval_f1': 0.906187624750499, 'eval_precision': 0.8901960784313725, 'eval_recall': 0.9227642276422764, 'eval_runtime': 40.5268, 'eval_samples_per_second': 12.338, 'eval_steps_per_second': 1.555, 'epoch': 3.0}\n",
      "Accuracy: 0.9060\n",
      "Precision: 0.8902\n",
      "Recall: 0.9228\n",
      "F1 Score: 0.9062\n"
     ]
    },
    {
     "name": "stderr",
     "output_type": "stream",
     "text": [
      "\n"
     ]
    }
   ],
   "source": [
    "# Evaluate BERT model\n",
    "eval_results_bpe = trainer_bpe.evaluate()\n",
    "print(f\"BERT with BPE Evaluation Results: {eval_results_bpe}\")\n",
    "print(f\"Accuracy: {eval_results_bpe['eval_accuracy']:.4f}\")\n",
    "print(f\"Precision: {eval_results_bpe['eval_precision']:.4f}\")\n",
    "print(f\"Recall: {eval_results_bpe['eval_recall']:.4f}\")\n",
    "print(f\"F1 Score: {eval_results_bpe['eval_f1']:.4f}\")"
   ]
  },
  {
   "cell_type": "markdown",
   "metadata": {},
   "source": [
    "#### LSTM not using BPE"
   ]
  },
  {
   "cell_type": "code",
   "execution_count": 33,
   "metadata": {},
   "outputs": [],
   "source": [
    "from sklearn.feature_extraction.text import CountVectorizer\n",
    "import torch\n",
    "\n",
    "def tokenizer(texts, vectorizer=None):\n",
    "\tif vectorizer is None:\n",
    "\t\tvectorizer = CountVectorizer(max_features=1000, token_pattern=r'\\b\\w+\\b')\n",
    "\t\tvectors = vectorizer.fit_transform(texts).toarray()\n",
    "\telse:\n",
    "\t\tvectors = vectorizer.transform(texts).toarray()\n",
    "\treturn torch.tensor(vectors, dtype=torch.long), vectorizer\n",
    "\n",
    "train_texts = train_dataset['text']\n",
    "train_labels = torch.tensor(train_dataset['label'], dtype=torch.long)\n",
    "\n",
    "test_texts = test_dataset['text']\n",
    "test_labels = torch.tensor(test_dataset['label'], dtype=torch.long)\n",
    "\n",
    "# Convert texts to token ids\n",
    "train_simple, vectorizer = tokenizer(train_texts)\n",
    "test_simple, _ = tokenizer(test_texts, vectorizer)\n",
    "\n",
    "# Add a dimension for the channel\n",
    "train_simple = train_simple.unsqueeze(1)\n",
    "test_simple = test_simple.unsqueeze(1)"
   ]
  },
  {
   "cell_type": "code",
   "execution_count": 34,
   "metadata": {},
   "outputs": [],
   "source": [
    "import torch.nn as nn\n",
    "import torch.optim as optim\n",
    "\n",
    "class SimpleLSTM(nn.Module):\n",
    "\tdef __init__(self, input_dim, hidden_dim, output_dim):\n",
    "\t\tsuper(SimpleLSTM, self).__init__()\n",
    "\t\tself.hidden_dim = hidden_dim\n",
    "\t\tself.lstm = nn.LSTM(input_dim, hidden_dim, batch_first=True)\n",
    "\t\tself.fc = nn.Linear(hidden_dim, output_dim)\n",
    "\n",
    "\tdef forward(self, x):\n",
    "\t\tlstm_out, _ = self.lstm(x)\n",
    "\t\tlstm_out = lstm_out[:, -1, :] # get the last output\n",
    "\t\tout = self.fc(lstm_out)\n",
    "\t\treturn out\n",
    "\n",
    "input_dim = train_simple.shape[2]\n",
    "hidden_dim = 64\n",
    "output_dim = 2\n",
    "model_simple = SimpleLSTM(input_dim, hidden_dim, output_dim)\n",
    "criterion = nn.CrossEntropyLoss()\n",
    "optimizer = optim.Adam(model_simple.parameters(), lr=0.001)"
   ]
  },
  {
   "cell_type": "code",
   "execution_count": 35,
   "metadata": {},
   "outputs": [],
   "source": [
    "from torch.utils.data import DataLoader, TensorDataset\n",
    "\n",
    "# Dataloader\n",
    "train_dataset_simple = TensorDataset(train_simple.float(), train_labels)\n",
    "train_loader = DataLoader(train_dataset_simple, batch_size=8, shuffle=True)\n",
    "\n",
    "test_dataset_simple = TensorDataset(test_simple.float(), test_labels)\n",
    "test_loader = DataLoader(test_dataset_simple, batch_size=8, shuffle=False)"
   ]
  },
  {
   "cell_type": "code",
   "execution_count": 36,
   "metadata": {},
   "outputs": [
    {
     "name": "stdout",
     "output_type": "stream",
     "text": [
      "Epoch 1, Accuracy: 72.20%\n",
      "Epoch 2, Accuracy: 79.60%\n",
      "Epoch 3, Accuracy: 80.60%\n"
     ]
    }
   ],
   "source": [
    "# Training loop for LSTM\n",
    "num_epochs = 3\n",
    "device = torch.device('cuda' if torch.cuda.is_available() else 'cpu')\n",
    "model_simple.to(device)\n",
    "\n",
    "for epoch in range(num_epochs):\n",
    "\tmodel_simple.train()\n",
    "\tfor inputs, labels in train_loader:\n",
    "\t\tinputs, labels = inputs.to(device), labels.to(device)\n",
    "\t\toptimizer.zero_grad()\n",
    "\t\toutputs = model_simple(inputs.float())\n",
    "\t\tloss = criterion(outputs, labels)\n",
    "\t\tloss.backward()\n",
    "\t\toptimizer.step()\n",
    "\n",
    "\t# Evaluation\n",
    "\tmodel_simple.eval()\n",
    "\tcorrect = 0\n",
    "\ttotal = 0\n",
    "\twith torch.no_grad():\n",
    "\t\tfor inputs, labels in test_loader:\n",
    "\t\t\tinputs, labels = inputs.to(device), labels.to(device)\n",
    "\t\t\toutputs = model_simple(inputs.float())\n",
    "\t\t\t_, predicted = torch.max(outputs.data, 1)\n",
    "\t\t\ttotal += labels.size(0)\n",
    "\t\t\tcorrect += (predicted == labels).sum().item()\n",
    "\n",
    "\taccuracy = 100 * correct / total\n",
    "\tprint(f'Epoch {epoch+1}, Accuracy: {accuracy:.2f}%')"
   ]
  },
  {
   "cell_type": "code",
   "execution_count": 37,
   "metadata": {},
   "outputs": [
    {
     "name": "stdout",
     "output_type": "stream",
     "text": [
      "Accuracy: 0.8060\n",
      "Precision: 0.8112\n",
      "Recall: 0.8060\n",
      "F1 Score: 0.8054\n"
     ]
    }
   ],
   "source": [
    "def evaluate_lstm(model, test_loader):\n",
    "\tmodel.eval()\n",
    "\tdevice = torch.device('cuda' if torch.cuda.is_available() else 'cpu')\n",
    "\tmodel.to(device)\n",
    "\n",
    "\tall_preds = []\n",
    "\tall_labels = []\n",
    "\twith torch.no_grad():\n",
    "\t\tfor inputs, labels in test_loader:\n",
    "\t\t\tinputs, labels = inputs.to(device), labels.to(device)\n",
    "\t\t\toutputs = model(inputs.float())\n",
    "\t\t\t_, predicted = torch.max(outputs.data, 1)\n",
    "\t\t\tall_preds.extend(predicted.cpu().numpy())\n",
    "\t\t\tall_labels.extend(labels.cpu().numpy())\n",
    "\n",
    "\taccuracy = accuracy_score(all_labels, all_preds)\n",
    "\tprecision, recall, f1, _ = precision_recall_fscore_support(all_labels, all_preds, average='weighted')\n",
    "\treturn {\n",
    "\t\t'accuracy': accuracy,\n",
    "\t\t'precision': precision,\n",
    "\t\t'recall': recall,\n",
    "\t\t'f1': f1\n",
    "\t}\n",
    "\n",
    "eval_results_lstm = evaluate_lstm(model_simple, test_loader)\n",
    "print(f\"Accuracy: {eval_results_lstm['accuracy']:.4f}\")\n",
    "print(f\"Precision: {eval_results_lstm['precision']:.4f}\")\n",
    "print(f\"Recall: {eval_results_lstm['recall']:.4f}\")\n",
    "print(f\"F1 Score: {eval_results_lstm['f1']:.4f}\")"
   ]
  },
  {
   "cell_type": "markdown",
   "metadata": {},
   "source": [
    "### CHAPTER 2"
   ]
  },
  {
   "cell_type": "markdown",
   "metadata": {},
   "source": [
    "#### Generate training data\n"
   ]
  },
  {
   "cell_type": "code",
   "execution_count": 38,
   "metadata": {},
   "outputs": [
    {
     "name": "stdout",
     "output_type": "stream",
     "text": [
      "Kiệt tác hơn 140 triệu USD của Tề Bạch Thạch \"Thập nhị phong cảnh đồ\" của Tề Bạch Thạch từng bán giá 140,8 triệu USD - đắt nhất Trung Quốc.Thevalue công bố danh sách \"10 tác phẩm nghệ thuật đắt nhất được bán đấu giá\" hồi cuối tháng 11, sau khi cập nhật những tác phẩm đoạt giá cao trong năm, Thập nhị phong cảnh đồ của Tề Bạch Thạch đứng thứ tám với mức 931,5 triệu nhân dân tệ (khoảng 140,8 triệu USD).Con số này được ấn định trong phiên đấu của Poly Bắc Kinh hồi tháng 12/2017. Tác phẩm có mức giá khởi điểm là 450 triệu NDT, sau hơn 20 phút với hơn 60 lượt đặt giá, tác phẩm được chốt ở mức 931,5 triệu NDT bao gồm thuế phí. Người mua là nhà sưu tập Trung Quốc. Tranh lập kỷ lục tác phẩm nghệ thuật Trung Quốc đắt giá nhất. Tề Bạch Thạch trở thành danh họa Trung Quốc đầu tiên vào \"câu lạc bộ\" nghệ sĩ có tác phẩm trị giá trên 100 triệu USD.Thập nhị phong cảnh đồ ra đời năm 1925, gồm 12 bức tranh riêng biệt mô tả cảnh sông núi chân thực ở Hồ Nam và Quế Lâm. Mỗi bức có kích thước 180x47 cm, được vẽ bằng mực nho, màu nước trên giấy xuyến chỉ. Ngoài ra, mỗi bức đề một bài thơ do ông sáng tác bằng thư pháp, đóng dấu. Các học giả cho rằng tác phẩm được Tề Bạch Thạch vẽ sau khi đi du lịch khắp Trung Quốc. Bộ tranh thể hiện đầy đủ kỹ năng vẽ tranh phong cảnh bậc thầy của nghệ sĩ.Theo ThePaper, tranh là tổng hợp của các thể loại thơ, thư, họa, triện. Hoa Thiên Tuyết - Chủ tịch Học viện Nghệ thuật Quốc gia Trung Quốc - nhận xét: \"Đây là 12 bức tranh huyền thoại trong lĩnh vực thư pháp và hội họa\". Theo Sina, trong 10 năm từ 1917-1927 là cải cách thoái trào của Tề Bạch Thạch. Họa sĩ thay đổi mô hình và phương pháp sáng tác trong những năm cuối đời. Vì vậy, tác phẩm năm 1925 được coi là tác phẩm phong cảnh tiêu biểu nhất cho thời kỳ chuyển đổi phong cách của Tề Bạch Thạch. Trước đó, ông chủ yếu vẽ tôm, cá và các loài động vật...Câu chuyện mua bán tranh có nhiều bước ngoặt. Theo Sohu, tranh là món quà sinh nhật Tề Bạch Thạch tặng bạn thân, bác sĩ nổi tiếng ở Bắc Kinh Trần Tử Lâm. Đầu năm 1950, Trần Tử Lâm nhờ Lưu Kim Đào - họa sĩ nổi tiếng ở Bắc Kinh - bán tác phẩm. Hai nhà sưu tập Trương Đình và Ngải Thanh được Lưu Kim Đào đưa tới nhà Trần Tử Lâm. Sau khi nhìn thấy bức tranh, Trương Đình liền quỳ xuống, hết lời khen ngợi. Cả hai thương lượng mỗi người mua hai bức. Tuy nhiên, Trần Tử Lâm không bán giá dưới 45.000 nhân dân tệ (156 triệu đồng)Quách Tú Nghi - đệ tử của Tề Bạch Thạch - cùng chồng Hoàng Kỳ Tường là khách hàng tiếp theo. Cả hai đồng ý mua tranh mà không mặc cả. 45.000 NDT khi đó rất lớn. Theo cải cách tiền lương năm 1955, lương của chủ tịch Mao Trạch Đông chỉ có 440 NDT (1,5 triệu đồng).Năm 1989, Vương Đài Khánh - nhà sưu tập và buôn bán nghệ thuật người Đài Loan - thuyết phục thành công gia đình Hoàng Kỳ Tường bán lại bức tranh. \"Khi tôi mua nhóm 12 bức từ nhà họ, tôi không có nhiều tiền trong tay như vậy. Tôi đã mua từng bức một. Sau khi mua một bức, tôi bán nó ở Đài Loan rồi quay lại mua tấm thứ hai\", ông kể lại.Vương Đài Khánh cho biết thêm ban đầu định bán lại cho một nhà sưu tập họ Trịnh. Tuy nhiên người này muốn giảm giá nên không thành. Ông đành bán trao tay cho Hoàng Thừa Chí - chủ một phòng trưng bày tranh tại Đài Loan.Trên Sina, Hoàng Thừa Chí cho biết: \"Vương Đài Khánh tới tìm tôi nói có một bộ sơn thủy của Tề Bạch Thạch muốn bán. Tôi nghe xong cảm thấy rất tốt nhưng mức giá đưa ra là 1 triệu USD (30 triệu Đài tệ) - con số trên trời. Mặc dù lúc đó các tác phẩm của Trương Đại Thiên bán với giá hàng chục triệu Đài tệ, nhưng giá tranh của Tề Bạch Thạch vẫn không cao\".Quá trình mua bán gặp nhiều vấn đề vì tranh ở Bắc Kinh, tiền ở Đài Bắc. Người bán không muốn giao tranh cho người trung gian mang đi, người mua không yên tâm trả tiền mà không xem tác phẩm gốc. Phương pháp hợp lý nhất là hai bên gặp nhau. Tuy nhiên, người trung gian phản đối việc này. Hoàng Thừa Chí cũng không muốn đến cuộc hẹn với số tiền lớn và trở về Đài Loan với bức tranh quý như bảo vật quốc gia - hai lần mạo hiểm. Vì vậy, họ thống nhất mua từng bức một, mỗi lần trả 100.000 USD. \"Mất ba tháng chạy đi chạy lại. Đến tháng 3/1990, tôi mới có đủ 12 bức tranh\", Thừa Chí nói.Thập nhị phong cảnh đồ lần đầu được trưng bày vào tháng 4/1954 tại \"Triển lãm tranh Tề Bạch Thạch\" do Hiệp hội Nghệ sĩ Trung Quốc tổ chức. Sau đó, tranh được giới thiệu tại \"Triển lãm di cảo của Tề Bạch Thạch\" vào năm 1958 - một năm sau khi họa sĩ qua đời.Tề Bạch Thạch (1864-1957) là tên tuổi vĩ đại của hội họa Trung Quốc, sở trường vẽ sơn thủy, hoa lá, chim cá. Theo thống kê do ArtPrice - công ty nghiên cứu thị trường của Pháp - thực hiện, Tề Bạch Thạch xếp thứ ba toàn cầu trong danh sách họa sĩ có tác phẩm bán được nhiều tiền nhất năm 2009, sau Andy Warhol và Picasso. Sinh thời, danh họa Picasso từng nói: \"Tôi không dám đến Trung Quốc, bởi vì ở đó có Tề Bạch Thạch\".Theo ThePaper, Tề Bạch Thạch từng nói: \"Cái hay của tranh nằm ở giữa 'giống' và 'không giống'. Giống thì tầm thường quá, thiếu tư tưởng và góc nhìn của nghệ sĩ, mà không giống thì là lừa phỉnh người xem\". Ông còn từng khuyên các học trò: \"Học ta thì sống mà giống ta thì chết\", nhắc học trò tìm tòi sự khác biệt, nếu không tác phẩm sẽ không có sức sống lâu bền.Hiểu Nhân. Uyên Linh chiều lòng khán giả phố núi Gia LaiCa sĩ Uyên Linh thể hiện nhiều bài hát theo yêu cầu trong show \"Xin giữ em cho hoàng hôn\", được 600 khán giả cổ vũ.Những giai điệu đậm màu jazz và swing là điểm nhấn giàu cảm xúc cho đêm nhạc giàu tính ngẫu hứng. Ca sĩ mở đầu với Giấc mơ tuyệt vời (Bảo Chấn), Người hát tình ca (Lưu Thiên Hương), Mùa đông chưa bao giờ tới (Tạ Anh Thắng)... Khi hát Giữa đại lộ đông tây (Hứa kim Tuyền), cô chinh phục người nghe với chất giọng phiêu lãng, phần điệp khúc cao trào.Càng về cuối, cô trình diễn càng sung sức. Hát bản hit Chỉ là giấc mơ (Kim Ngọc)- ca khúc làm nên \"thương hiệu\" Uyên Linh tại Vietnam Idol 2010, cô \"phiêu\" cùng tiếng kèn saxophone, kết tiết mục bằng nốt cao kéo dài. Sau mỗi bài, Uyên Linh đều hỏi: \"Mọi người thấy thế nào ạ\" và nhận được những tràng vỗ tay lớn từ khán giả.Tự nhận nói chuyện không khéo, Uyên Linh chinh phục khán giả bằng sự tự nhiên, gần gũi. Nghệ sĩ hài hước: \"Ban nhạc đánh hay như vậy mà tiếng hát của tôi lại to hơn, lấn lướt hoài, không khéo họ giận không chơi nữa, mọi người phải vỗ tay to hơn cho ban nhạc nhé\".Cô cho biết là người cá tính mạnh nên khó tìm kiếm tình yêu. \"Đôi lúc tôi mơ và ngưỡng mộ những người phụ nữ đi làm văn phòng, có chồng, sinh con, cuộc sống trôi qua bình yên. Nhưng rồi, tôi phải trở lại hiện thực với con đường mình đã chọn\". Ca sĩ sau đó trình diễn bài ca khúc Cảm ơn tình yêu của nhạc sĩ Huy Tuấn.Khi được khán giả yêu cầu hát Bên trên tầng lầu (Tăng Duy Tân), Uyên Linh nói cô được khán giả yêu thích ở chương trình Ca sĩ mặt nạ với nhạc phẩm này nhưng không thể biểu diễn trong show bán vé vì lý do bản quyền. Nữ ca sĩ bù lại cho người nghe bằng bản nhạc Lặng thầm (Nguyễn Hoàng Duy).Khi cô thể hiện tiết mục cuối khép lại đêm nhạc, khán giả nán lại chưa chịu về và yêu cầu Uyên Linh hát thêm. Thấy sân khấu ngoài trời về đêm nhiệt độ xuống thấp, ca sĩ nói vui cô sợ mọi người \"đói và lạnh\" nhưng vẫn chiều lòng fan hát thêm ba nhạc phẩm: Đôi mắt Pleiku (Nguyễn Cường), Chiếc lá mùa đông (nhạc ngoại, lời Việt: Khúc Lan) và Con cầu xin (Phương Uyên).Không ít người theo dấu Uyên Linh suốt hơn một thập niên ca hát. Vẫy tay theo giai điệu Bước qua mùa cô đơn (Vũ), khán giả Mai Hồng (35 tuổi) nói bài hát làm chị nhớ về mối tình đầu. \"Uyên Linh sau nhiều năm vẫn vậy, giọng hát giàu cảm xúc. Tôi vui bởi nữ ca sĩ vẫn giữ mãi được chất riêng\", khán giả nói.Uyên Linh sinh năm 1987, tốt nghiệp Học viện Ngoại giao Hà Nội. Cô là quán quân Vietnam Idol năm 2010. Sau cuộc thi, Uyên Linh phát hành album Giấc mơ tôi (2012), đĩa đơn Chờ người nơi ấy (2012), Chiếc lá mùa đông (2013), album Ước sao ta chưa gặp nhau (2014), Portrait (2017)... Năm 2018, cô cùng ca sĩ Lân Nhã tổ chức liveshow chung Chẳng phải tình cờ. Năm 2022, cô tham gia chương trình Ca sĩ mặt nạ.Hoàng Dung. Cuộc đời Celine Dion qua hồi ký Danh ca Canada kể lại nỗi đau khi phát hiện chồng ung thư trong hồi ký \"Celine Dion - Câu chuyện đời tôi, giấc mơ trong tôi\".Tác phẩm khắc họa chân thật con người Celine Dion đằng sau ánh hào quang, kể về tình yêu với chồng Rene Angeli - quản lý đồng thời là bạn tâm giao của cô, những dấu ấn của Celine trong cuộc đời và sự nghiệp âm nhạc. Bằng ngôn từ gần gũi, cuốn sách đưa độc giả tới những câu chuyện cảm động và hài hước, khó khăn và thăng hoa.Trong sách, Celine nói nhiều nhất về chồng cô. Rene Angelil đã giúp Celine tạo ra những ca khúc lay động trái tim nhiều thế hệ. Tôn vinh và trân trọng tình yêu là chủ đề chính trong mọi bài hát của Celine Dion, từ những bản hit đình đám đến các ca khúc khác nằm trong mỗi album.Celine nói về nỗi đau kinh hoàng khi bác sĩ thông báo Rene bị ung thư. Bước ngoặt ấy khiến danh ca chọn dừng sự nghiệp ca hát một thời gian để chăm sóc chồng. Tự nhận là người nghiện căng thẳng, cuộc sống gắn với sân khấu và sự hâm mộ của khán giả, ánh hào quang của người nổi tiếng, Celine đối mặt nhiều khó khăn từ khi chồng phát bệnh.Đương đầu với thử thách và sóng gió, cô nhận ra rằng dù trong khoảnh khắc đau đớn, đáng sợ hay tồi tệ, hạnh phúc vẫn sẽ tỏa sáng lấp lánh khi chúng ta biết yêu thương. Chính điều này khiến hai vợ chồng không từ bỏ việc sinh con. Trước đợt hóa trị đầu tiên của Rene, Celine đã tìm hiểu thủ tục thụ tinh trong ống nghiệm. Cuối cùng điều kỳ diệu cũng tới, con trai họ - René-Charles - chào đời năm 2001.Dù trải qua quãng thời gian đau khổ, Celine Dion biết ơn vì những may mắn nhận được. Thuở nhỏ, cô sống trong vòng tay yêu thương của đại gia đình - bố mẹ và 13 anh chị, trong đó mẹ là người đầu tiên định hướng cô theo âm nhạc. Celine cũng nhận được sự hỗ trợ và dìu dắt của nhiều nhạc sĩ, nhà sản xuất tài năng từ những bước đi đầu tiên.Celine Dion giành được năm giải Grammy, bao gồm \"Album của năm\" và \"Thu âm của năm\". Năm 2016, Billboard vinh danh cô là \"Nữ hoàng nhạc đương đại\". Bên cạnh sự nghiệp ca hát, Celine góp mặt trong một số bộ phim, tham gia kinh doanh và hoạt động từ thiện tích cực cho nhiều tổ chức trên toàn cầu. Mới đây, theo trang SCMP, cô đứng hạng ba trong danh sách những giọng ca giàu nhất thế giới với khối tài sản 800 triệu USD.Rene Angelil và Celine Dion là vợ chồng 22 năm trước khi ông mất năm 2016 vì bệnh ung thư vòm họng, hưởng thọ 73 tuổi. Hai người có ba con: Rene-Charles (21 tuổi) cùng cặp song sinh Eddy và Nelson (11 tuổi).Thanh Giang. Nhạc sĩ 'Mưa đêm tỉnh nhỏ' bị tai nạn gãy xương đùi TP HCMHà Phương - tác giả bài \"Mưa đêm tỉnh nhỏ\" - bị tai biến ở tuổi 84, ngã gãy xương đùi, phải phẫu thuật thay khớp.Vũ Phương - con trai nhạc sĩ - cho biết hiện ông được điều trị tại một bệnh viện ở quận Phú Nhuận sau hai ngày cấp cứu. Hôm 3/12, khi đang ở nhà cùng con trai, ông lảo đảo vì chứng tai biến tái phát rồi ngã. Sau khi người thân đưa vào viện, ông được chẩn đoán gãy xương đùi, chỉ định phẫu thuật thay khớp háng.Vũ Phương nói: \"Do ông bị đột quỵ, bác sĩ yêu cầu điều trị cho huyết áp, tim mạch ổn định rồi mới mổ để đề phòng biến chứng. Nếu không mổ, ông có nguy cơ tàn phế, nằm một chỗ đến cuối đời\".Nhạc sĩ từng bị đột quỵ một lần năm 2019, từ đó sức khỏe xuống dốc. Những năm gần đây, ông ngưng sáng tác vì dần kém minh mẫn. Ông có hai con, hiện sống cùng gia đình Vũ Phương - con út. Thu nhập không ổn định, tiền bản quyền ca khúc không đủ sống, ông phải nhờ cậy vợ chồng con trai. Vũ Phương theo nghiệp viết nhạc của cha hơn 10 năm qua nhưng chưa có nhiều sáng tác nổi tiếng, gia đình chủ yếu dựa vào vợ anh - hiện làm việc cho một trung tâm y tế dự phòng. Những ngày qua, anh cảm động khi cha được khán giả, đồng nghiệp hỏi thăm, giúp đỡ.Nhạc sĩ Hà Phương tên thật là Dương Văn Lắm, sinh năm 1938 tại huyện Chợ Gạo, Mỹ Tho (nay là Tiền Giang). Năm 19 tuổi, Hà Phương được học nhạc với nhạc sĩ Lâm Tuyền, sau đó học dự thính trường Quốc gia Âm nhạc Sài Gòn. Hai năm sau, ông về dạy nhạc cho trường trung học Bình Phước ở Tầm Vu, Long An, sau đó bắt đầu sáng tác, với ca khúc đầu tay mang tên Đường khuya.Ở mảng tình yêu đôi lứa, nhiều ca khúc của ông trở thành các bài bolero kinh điển, do nhiều giọng ca nổi tiếng thể hiện, như Phi Nhung, Chế Linh, Hương Lan, Trường Vũ, Cẩm Ly... Ông tâm đắc nhất hai nhạc phẩm Mưa đêm tỉnh nhỏ và Mùa mưa đi qua. Trong đó, Mưa đêm tỉnh nhỏ là kỷ niệm của ông về mối tình đầu - cô gái tên Nguyễn Thị Ngọc Lan. Khi viết ca khúc, ông nhớ về những buổi hẹn trong đêm mưa buồn nơi tỉnh lẻ, ánh đèn mờ ảo, phố vắng thưa người. Yêu nhau 10 năm, cô gái chia tay ông để đi lấy chồng.Các bài hát của Hà Phương đi vào lòng khán giả nhiều thế hệ nhờ ca từ gần gũi, chất nhạc dễ nghe, dễ cảm. Trong gia tài 80 sáng tác, ông dành phần lớn để ca ngợi vẻ đẹp con người và vùng đất Nam Bộ, như Bông điên điển, Em về miệt thứ... Ông từng nói: \"Từ những cánh đồng lúa mênh mông, dòng sông, bến nước, tôi bước vào đời với tiếng ru ngọt ngào, điệu lý câu hò thắm đẫm tình quê. Đó chính là lý do những bài hát của tôi mang đậm sắc thái dân ca Nam Bộ\".Mai Nhật. Đề nghị dùng Quỹ bảo tồn di sản Huế để hồi hương ấn vàng Thừa Thiên - HuếChủ tịch tỉnh Nguyễn Văn Phương đề nghị Thủ tướng cho phép dùng Quỹ bảo tồn di sản Huế để thương lượng với hãng Millon hồi hương ấn vàng.Ngày 7/11, lãnh đạo tỉnh Thừa Thiên Huế kiến nghị lên Thủ tướng được huy động nguồn lực xã hội hóa cho Quỹ bảo tồn di sản Huế và sử dụng quỹ này để kịp thời mua lại và hồi hương ấn Hoàng đế chi bảo.Tỉnh cũng đề nghị Thủ tướng đồng ý chủ trương, giao Bộ Văn hóa, Thể thao và Du lịch, Bộ Ngoại giao phối hợp hỗ trợ tỉnh, các tổ chức, cá nhân thương lượng với nhà đấu giá Millon (Pháp) về việc mua ấn đưa về nước, góp phần bảo vệ, gìn giữ và phát huy giá trị di sản quốc gia.Ông Trần Hữu Thùy Giang, Chánh văn phòng tỉnh Thừa Thiên Huế cho biết Quỹ bảo tồn di sản Huế vừa mới thành lập nên chưa có tiền. Lãnh đạo tỉnh kỳ vọng,khi Thủ tướng Chính phủ đồng ý chủ trương, Quỹ sẽ huy động được nguồn xã hội hóa từ các cá nhân, tổ chức để có thể hồi hương ấn về cố đô.Hồi tháng 10, Chính phủ thành lập Quỹ bảo tồn di sản Huế và giao Ủy ban Nhân dân tỉnh Thừa Thiên Huế quản lý. Quỹ quốc gia này nhằm đầu tư cho các công trình, hạng mục chưa được ngân sách nhà nước bố trí hoặc bố trí chưa đủ. Nhiệm vụ của quỹ gồm tiếp nhận, quản lý, sử dụng nguồn tài chính, tài trợ các dự án, đầu tư trùng tu, bảo tồn, phát triển giá trị di sản Huế... Nguồn tài chính của quỹ được huy động từ ngân sách nhà nước các tỉnh, thành (không bao gồm ngân sách tỉnh Thừa Thiên Huế), nguồn viện trợ của tổ chức, cá nhân trong và ngoài nước, nguồn lãi từ tiền gửi...Trước đó, ngày 1/11, đại diện Cục Di sản Văn hóa (Bộ Văn hóa, Thể thao và Du lịch) cho biết sau quá trình xác minh, Cục khẳng định ấn vàng Hoàng đế chi bảo là thật. Các cơ quan chức năng mong muốn huy động mọi nguồn lực để đưa ấn về nước.Theo Cục, việc hãng Millon thông báo dời ngày đấu giá từ 31/10 sang 10/11 tạo điều kiện cho phía Việt Nam có thêm thời gian thương lượng để mua trực tiếp. Ngoài ra, phương án khác là các cơ quan, tổ chức trong nước có thể quyên góp, tham gia đấu giá ấn, đưa về và hiến tặng cho bảo tàng.Nhà đấu giá Millon chào bán ấn vàng của vua Minh Mạng với giá 2-3 triệu euro (48 đến 72 tỷ đồng). Hiện vật được đặt tên Con dấu vàng quý hiếm Kim bảo tỷ của Hoàng đế Minh Mạng (1791-1841), cao 10,4 cm, nặng 10,78 kg, mặt hình vuông, kích thước 13,8x13,7cm.Mặt trên của ấn khắc hai dòng chữ: \"Minh Mạng tứ niên nhị nguyệt sơ tứ nhật cát thời chú tạo\" (Được làm vào ngày 4/2, năm thứ 4 đời vua Minh Mạng, tức ngày 4/2/1823) và \"Thập thành hoàng kim trọng nhị bách bát thập lạng cửu tiền nhị phân\" (Làm bằng vàng, nặng 280 lạng, 9 chỉ, 2 phân, khoảng 10,7 kg). Đế ấn in dòng chữ \"Hoàng đế chi bảo\" (Báu vật của hoàng đế).Chiếc ấn là di sản văn hóa của Việt Nam, biểu trưng quyền lực chính trị trong một giai đoạn lịch sử. Theo cuốn Khâm định Đại Nam hội điển sự lệ, ấn được dùng cho các hoạt động công quyền, chính sự của triều Nguyễn như lễ khánh tiết, ban ân, xá tội, đi tuần thú các địa phương, sắc thư ban cho nước ngoài... Cục Di sản Văn hóa khẳng định Hoàng đế chi bảo là ấn vàng lớn, đẹp, quý và quan trọng nhất của vương triều Nguyễn.Võ Thạnh. Em gái Trấn Thành: 'Tôi phát khóc khi đóng phim cùng anh' Uyển Ân - em gái diễn viên Trấn Thành - nói nhiều lần khóc vì bị anh mắng khi đóng phim Tết 2023 do anh đạo diễn.Cô đóng vai chính Ngọc Nhi trong Nhà bà Nữ - phim ra rạp dịp Tết Quý Mão. Khi Trấn Thành được mời đầu tư cho dự án, anh quyết định đạo diễn luôn phim để hỗ trợ em gái. Uyển Ân cho biết nghiên cứu kỹ kịch bản, tìm cách nắm bắt tâm lý nhân vật vì áp lực lần đầu đóng phim điện ảnh của anh trai.Hai ngày quay đầu, Uyển Ân nhiều lần khóc trên hiện trường vì bị Trấn Thành mắng. \"Có cảnh, tôi mới thoại một, hai câu đã bị anh la, yêu cầu làm lại. Lúc đó, tay chân tôi run lẩy bẩy. Những lúc không có cảnh quay, tôi toàn tránh mặt anh vì thể nào cũng bị chê\", diễn viên nói.Thời gian đầu đóng phim, cô ngại về chung xe với anh trai, dù bình thường cả hai thân thiết, trò chuyện mỗi ngày. Uyển Ân cho biết học hỏi Trấn Thành kỹ năng diễn xuất, cách làm nghề nghiêm túc. Cô xem anh là thần tượng, người thầy, người bạn chia sẻ mọi thứ trong cuộc sống. Trấn Thành thường cho em gái lời khuyên thực tế thay vì bao bọc, o bế. Cô nói: \"Khi xác định vào nghề, anh Thành nói thẳng với tôi sẽ không dọn sẵn cơm cho ăn, muốn no phải tự lăn vào bếp. Từ lúc bắt đầu tôi đã chuẩn bị tinh thần để chiến đấu\".Nhiều diễn viên khác trong dự án cũng căng thẳng khi làm việc với Trấn Thành. Nghệ sĩ Lê Giang - từng đóng phim Bố già (2021) - cho biết cách làm việc cầu toàn của anh đôi lúc khiến một số đồng nghiệp stress. \"Ra trường quay, cậu ấy bắt phải nói đúng từng chữ trong thoại. Dù đã quen đóng chung, nhiều khi đi quay về, tôi khóc vì áp lực\", Lê Giang nói. Song Luân - nam chính trong Nhà bà nữ - từng hoang mang khi Trấn Thành không gửi trước kịch bản, đến lúc ra trường quay mới biết phải diễn gì.Trấn Thành giải thích ở dự án mới, anh không muốn bị khán giả chê dễ dãi. \"Chúng tôi thường thông cảm và bỏ qua những thiếu sót của nhau, dẫn đến việc khi phim ra rạp, người xem hoài nghi về chất lượng, các rạp kêu gọi cứu phim Việt. Song tôi nghĩ nếu phim hay, không cần khán giải cứu\", anh nói.Phim lấy cảm hứng từ ẩm thực miền Nam, nhân vật Ngọc Nữ (Lê Giang) bán bánh canh cua. Trấn Thành nói khi tìm ý tưởng, anh tình cờ xem video quay một quán bánh canh cua nổi tiếng ở TP HCM với giá hơn 300.000 đồng mỗi tô. Trấn Thành nhận ra đây là quán thuở nhỏ anh thường ăn, sau hơn 20 năm vẫn đắt khách. Anh chọn món ăn này làm món chủ đạo trong phim. Khác Bố già - chỉ tập trung vào tình cha con, phim sẽ khắc họa mối quan hệ đa chiều giữa người thân, với chủ đề \"Gia đình nào cũng có những bí mật\".Trấn Thành tên đầy đủ Huỳnh Trấn Thành, sinh năm 1987, là diễn viên, người dẫn chương trình, nhà làm phim. Anh là host của nhiều show lớn như Vietnam's Got Talent, Giọng hát Việt Nhí, Người bí ẩn, Rap Việt... Anh tham gia các phim điện ảnh có doanh thu lớn như Bệnh viện ma, Chờ em đến ngày mai, Trạng Quỳnh, Cua lại vợ bầu... Năm 2021, anh gây tiếng vang khi làm phim điện ảnh đầu tay Bố già, đạt doanh thu hơn 400 tỷ đồng và nhiều giải thưởng trong nước tại Bông Sen Vàng, Cánh Diều Vàng, Ngôi sao xanh. Phim còn được chọn tranh giải \"Phim quốc tế xuất sắc\" tại Oscar lần thứ 94 nhưng trượt đề cử.Huỳnh Uyển ân sinh năm 1999, từng tham gia các phim online Gia đình Mén, Ba có phải Gangster, Giữa những tầng mây, Tâm sắc Tấm, Bố già... Hồi tháng 2, cô gây chú ý khi tham gia phim truyền hình Mẹ ác ma cha thiên sứ của Vũ Ngọc Đãng.Mai Nhật\n"
     ]
    }
   ],
   "source": [
    "# Read text file\n",
    "file_path_1 = 'Final_Project/giai-tri/url_007.txt'\n",
    "file_path_2 = 'Final_Project/giai-tri/url_006.txt'\n",
    "file_path_3 = 'Final_Project/giai-tri/url_002.txt'\n",
    "file_path_4 = 'Final_Project/giai-tri/url_001.txt'\n",
    "file_path_5 = 'Final_Project/giai-tri/url_352.txt'\n",
    "file_path_6 = 'Final_Project/giai-tri/url_361.txt'\n",
    "\n",
    "def read_text_file(file_path):\n",
    "\twith open(file_path, 'r', encoding='utf-8') as file:\n",
    "\t\ttext = file.read()\n",
    "\treturn text\n",
    "\n",
    "original_data = read_text_file(file_path_1) + '. ' + read_text_file(file_path_2) + '. ' + read_text_file(file_path_3) + '. ' + read_text_file(file_path_4) + '. ' + read_text_file(file_path_5) + '. ' + read_text_file(file_path_6)\n",
    "\n",
    "#Remove all newlines\n",
    "original_data = original_data.replace('\\n', '')\n",
    "print(original_data)"
   ]
  },
  {
   "cell_type": "code",
   "execution_count": 40,
   "metadata": {},
   "outputs": [],
   "source": [
    "import random\n",
    "\n",
    "vietnamese_characters = \"aăâeêioôơuưyáàảãạấầẩẫậắằẳẵặéèẻẽẹếềểễệíìỉĩịóòỏõọốồổỗộớờởỡợúùủũụứừửữựýỳỷỹỵ\"\n",
    "keyboard_mistakes = {\n",
    "\t'a': 'âă', 'ă': 'a', 'â': 'a',\n",
    "\t'e': 'ê', 'ê': 'e',\n",
    "\t'i': 'íì',\n",
    "\t'o': 'ôơ', 'ô': 'o', 'ơ': 'o',\n",
    "\t'u': 'ư', 'ư': 'u',\n",
    "\t'd': 'đ', 'đ': 'd'\n",
    "}\n",
    "\n",
    "def random_typo(word):\n",
    "\t# Choosen error type\n",
    "\terror_type = random.choice(['accent', 'keyboard', 'homophone'])\n",
    "\n",
    "\tif error_type == 'accent':\n",
    "\t\tfor i in range(len(word)):\n",
    "\t\t\tif word[i] in vietnamese_characters:\n",
    "\t\t\t\tnew_char = random.choice(vietnamese_characters)\n",
    "\t\t\t\tword = word[:i] + new_char + word[i+1:]\n",
    "\t\t\t\tbreak\n",
    "\n",
    "\telif error_type == 'keyboard':\n",
    "\t\tfor i in range(len(word)):\n",
    "\t\t\tif word[i] in keyboard_mistakes:\n",
    "\t\t\t\tnew_char = random.choice(keyboard_mistakes[word[i]])\n",
    "\t\t\t\tword = word[:i] + new_char + word[i+1:]\n",
    "\t\t\t\tbreak\n",
    "\n",
    "\telif error_type == 'homophone':\n",
    "\t\thomophones = {'d': 'gi', 'gi': 'd', 'tr': 'ch', 'ch': 'tr', 's': 'x', 'x': 's'}\n",
    "\t\tfor key in homophones:\n",
    "\t\t\tif key in word:\n",
    "\t\t\t\tword = word.replace(key, homophones[key], 1)\n",
    "\t\t\t\tbreak\n",
    "\n",
    "\treturn word"
   ]
  },
  {
   "cell_type": "code",
   "execution_count": 43,
   "metadata": {},
   "outputs": [
    {
     "name": "stdout",
     "output_type": "stream",
     "text": [
      "Kiệt tác hơn 140 trỹệu USD của Tỷ Bạch Thạch \"Thập nhệ phong cảnh đồ\" của Tề Bạch Thạtr từng bán giá 140,8 triệu USD - đắt nhất Trung Qửốc.Thevalue công bố danh sách \"10 tác phẩm nghệ thuật đắt nhất được bán đấu dá\" hồi cuối tháng 11, sau khí cập nhật những tực phẩm đoạt gứá cao trong nam, Thập nhị phong cảnh đồ của Tề Bạch Thạch đứng thứ tám với mức 931,5 triệu nhân dân tệ (khoảng 140,8 triệu USD).Con số này được ấn dịnh trong phiên dấu của Poly Bắc Kinh hồi tháng 12/2017. Tác phẩm có mức giá khởi điểm là 450 trảệu NDT, sau hơn 20 phút vớí hơn 60 lượt đặt gựá, tác phẩm được chốt ở mức 931,5 trìệu NDT bao gồm thýế phí. Người mưa là nhà sưu tập Trưng Quốc. Tranh lập kỷ lục tác phẩm nghệ thuật Trung Quốc đắt giá nhất. Tề Bạch Thạch trở thành gianh họa Trung Quốc đầu tiên vào \"câu lạc bộ\" nghệ sĩ có tác phẩm trị giá trên 100 triệu USD.Thập nhị phong cảnh đồ rặ đời năm 1925, gồm 12 bức tranh riêng bìệt mô tả cảnh xông núi chân thực ở Hồ Nam và Quế Lâm. Mỗi bức có kích thước 180x47 cm, đăợc vẽ bợng mực nhơ, màu nước trên giấy xuyến chỉ. Ngoài ra, mỗi bức đề một bài thơ gio ông sáng tác bằng thư pháp, đóng dấu. Các học giả tro rằng tác phẩm đỉợc Tề Bỳch Thạch vẽ sau khí đi dễ lịch khắp Trung Quốc. Bộ tranh thể hiện đầy đủ kỹ nễng vẽ chanh phong cảnh bậc thầy của nghệ sĩ.Theo ThePaper, tranh là téng hợp cũa các thể loại thơ, thư, họa, triện. Hoa Thiên Tuyết - Chủ tịch Học viện Nghệ thuật Quốc gia Trung Quốc - nhận xét: \"Đây là 12 bức tranh huyền thơại trong lĩnh vực thư pháp và hộí họa\". Theo Sína, trơng 10 năm từ 1917-1927 là cải cách thoái trào của Tề Bạch Thạch. Họa sĩ thay đổi mô hình và phương phẩp sáng tưc trong những năm cuối đời. Vì vậy, tác phẩm năm 1925 được coi là tác phẩm phong cảnh tiêu biểu nhất tro thờí kễ chuyển đổi phong cách của Tề Bạch Thạch. Truớc đó, ông chằ yếu vẽ tôm, că và các loài động vật...Câu chuyện mua bán tranh có nhiều bước ngoặt. Theo Sohu, tranh là món qưà sinh nhật Tề Bạch Thạch tặng bạn thân, bác xĩ nổi tiếng ở Bắc Kinh Trần Tử Lâm. Đầu năm 1950, Trần Tề Lâm nhờ Lưu Kim Đào - họa sĩ nổi tiếng ở Bắc Kính - bán tác phẩm. Hai nhà sợu tập Trương Đình và Ngải Thanh được Lưu Kim Đào đưa tới nhà Trần Tử Lâm. Sau khi nhìn thấy bức trânh, Trương Đình liền quỳ xuống, hết lời khen ngợi. Cả hầi thương luợng mỡi ngẩời mua hai bức. Tuy nhiên, Trần Tử Lâm không bán giá dưới 45.000 nhĩn dân tệ (156 triệu đồng)Quách Tú Nghi - đệ tử của Tố Bạch Thạch - cùng chồng Hoàng Ki Tường là khách hàng tiếp theo. Cả hai dồng ý mua trỏnh mà khong mửc cả. 45.000 NDT khi đó rất lớn. Theo cải cách tiền lương năm 1955, lương của chủ tịch Mao Trạch Đông chỉ có 440 NDT (1,5 triệu đồng).Năm 1989, Vương Đài Khánh - nhà sưu tập và buôn bán nghệ thưật nguời Đài Loan - thuyết phục thành công gìa đình Hoàng Kỳ Tường bán lại bức tranh. \"Khi toi mua nhóm 12 bức từ nhà họ, tôi không có nhiều tiền trong tay như vềy. Tôi đã mua từng bức một. Sau khi mua một bức, tôi bán nó ở Đài Loan rồi qưay lại mua tấm thứ hâi\", ông kể lại.Vương Đài Khánh cho biết thêm ban đầu định bán lại cho một nhà sưu tập họ Trịnh. Tuy nhiên người này muốn giảm giá nên không thành. Ông đành bán trao tay cho Hoàng Thừa Chí - chủ một phòng trưng bày tranh tại Đài Lộan.Trên Sina, Hoàng Thừa Chí cho biết: \"Vương Đài Khánh tới tìm tôi nói có một bộ sơn thủy cộa Tề Bạch Thạch muốn bổn. Tôi nghe xong cèm thấy rất tốt nhưng mức giá đưa ra là 1 chiệu USD (30 triệu Đài tệ) - con số trên trời. Míc dặ lúc đó các tác phẩm củâ Trương Đại Thiên bán với giá hàng trục triệu Đài tệ, nhưng giá tranh của Tề Bạch Thạch vẫn không cao\".Quá trình mưa bán gặp nhiều vấn đề về tranh ở Bắc Kinh, tiền ở Đụi Bắc. Người bán không muốn giao tranh cho người trung gian mang đi, ngầời mua khong yên tâm trả tiền mà không xem tác phẩm gốc. Phương pháp hìp lề nhất là hai bên gặp nhau. Tuy nhiên, người trung gian phản đối việc này. Hoàng Thừa Chí cũng khỉng muốn đến cuộc hẹn với số tiền lớn và trở về Đài Loan với bức tranh quý nhu bảo vật quốc gia - hai lần mạo hiểm. Vì vậy, họ thống nhất mua từng bức một, mỗi lần trả 100.000 USD. \"Mất ba thĩng chạy di chạy lại. Đến tháng 3/1990, tôi mới có dủ 12 bức tranh\", Thừa Chí nói.Thập nhị phong cảnh đồ lần đầu được trưng bày vào tháng 4/1954 tứi \"Triển lãm trỡnh Tề Bạch Thạch\" do Hiệp hẻi Nghệ sĩ Trung Quốc tổ chức. Sau đó, tranh dược giới thiệu tại \"Triển lãm di cảo của Tề Bạch Thạch\" vào nam 1958 - một năm sau khí họa sĩ qua đời.Tề Bạch Thạtr (1864-1957) là tên tuổi vĩ đại của hội hửa Trung Quốc, sị trường vẽ sơn thủy, hoa lá, chim cá. Theo thống kê do ArtPròce - công ty nghuên cứu thị trường cìa Pháp - thực hiện, Tề Bạch Thạch xếp thứ bĩ toàn cầu trong danh sách họa sĩ có tác phẩm bán được nhiều tiền nhất năm 2009, xau Andy Warhol và Picasso. Sinh thời, danh họa Picasso tyng nói: \"Tôi không dám đến Trưng Quốc, bởi vì ở đó có Tề Bạch Thạtr\".Theo ThePaper, Tề Bạch Thạch từng nói: \"Cái hay của tranh nằm ở giữa 'giống' và 'không giống'. Giống thì tầm thường quá, thiếu tặ tưởng và góc nhìn của nghệ sĩ, mà không giống thì là lừa phỉnh người xem\". Ông còn từng khuyên các học trò: \"Học ta thì sống mử giống ta thã chết\", nhắc học trò tìm tòi xự khác biệt, nếư khong tác phẩm sẽ không có sức sống lâu bền.Hiểu Nhân. Uyên Lình chắều lòng khấn giả phố níi Gia LaiCa sắ Uyên Linh thể hiện nhẫều bỉi hát theo yêu cầu tróng shôw \"Xin gíữ em cho hoàng hăn\", được 600 khán gìả cổ vũ.Những giai điệu đậm màư jazz và swing là điểm nhấn gíàu cảm xèc cho đêm nhạc giàu tính ngẫu hứng. Ca sĩ mở đầu với Giấc mơ tuyệt vời (Bảo Chấn), Người hát tình ca (Lưu Thiên Hương), Mẫa đông chua bao dờ tới (Tạ Anh Thắng)... Khi hát Giữa đại lộ đông tay (Hứa kim Tưyền), co chinh phục ngùời nghe với chất giọng phiêu lãng, phần điệp khúc cao trào.Càng về cuối, cô trình diễn càng xung sức. Hát bản hit Chỉ lè giấc mơ (Kim Ngọc)- ca khúc làm nên \"thương hiệu\" Uyên Lính tại Vietnam Idol 2010, cô \"phiêu\" cùng tíếng kèn saxophone, kết tiết mục bằng nốt câo kéo dài. Sâu mỗi bài, Uyên Linh dều hựi: \"Mọi người thấy thế nào ạ\" và nhận được những tràng vỗ tay lớn từ khán dả.Tự nhận nói chuyện không khéo, Uyên Linh chinh phục khán giả bằng sự tự nhiên, gần gũi. Nghệ sĩ hài hước: \"Ban nhạc đứnh hay như vậy mà tiếng hát của tôi lại to hơn, lán lướt họài, không khéo họ giận không trơi nữa, mọi người phải vỗ tay to hơn cho ban nhạc nhé\".Cô chô biết là người cá tính mạnh nên khó tìm kiếm tình yêu. \"Đôi lúc tôi mơ và ngưỡng mộ những người phụ nữ đi làm văn phòng, có chồng, sinh con, cưộc sống trôi qua bình yên. Nhưng rồi, tôi phải trở lại hiện thực với con đường mộnh đã chọn\". Ca sĩ sau đó trình diễn bài ca khợc Cảm ơn tình èêu của nhạc sĩ Huy Tâấn.Khi được khán giả yêu cầu hựt Bên trên tầng lầu (Tăng Duy Tân), Uyên Linh nói cô được khán giả yêu thítr ở chương chình Ca sĩ mặt nạ với nhạc phẩm này nhưng không thể biểu diễn trong shâw bán vé vì lý do bản quyền. Nữ ca sĩ bù lại cho người nghe bằng bản nhạc Lặng thầm (Nguyễn Hoàng Duy).Khi cô thể hiện tiết mục cưối khép lýi đêm nhẹc, khán giả nán lại chua chịu về và yêu cầu Uyên Linh hát them. Thấy sân khấu ngôài trời về đêm nhiệt độ xuống thấp, ca sĩ nýi vưi cô sợ mọi người \"đẳi và lạnh\" nhưng vẫn triều lòng fan hát thêm ba nhạc phợm: Đỳi mắt Pleiku (Ngưyễn Cường), Chiếc lừ mòa đông (nhạc ngoại, lời Việt: Khúc Lọn) và Côn cầu xin (Phương Uyên).Không ít người theo giấu Uyên Linh suốt hơn một thập niên ca hát. Vẫy tay theo giai đứệu Bước qua mùa cô đơn (Vũ), khán gẳả Mai Hồng (35 tuổi) nói bài hát làm chị nhớ về mối tình đầu. \"Uyên Linh sau nhiều năm ván vậy, gĩọng hừt giàu cảm xúc. Tôi vui bởi nó ca sĩ vẫn giữ mãi đẹợc chất riêng\", khán giả nói.Uyên Linh sinh năm 1987, tốt nghiệp Học viện Ngoại gìao Hà Nội. Cô là quán quân Vietnam Idol nam 2010. Sau cuộc thi, Uyên Linh phát hành album Gỗấc mơ tôi (2012), đĩa đơn Chũ người nổi ấy (2012), Chiếc lá mùa đông (2013), album Ước sao ta chưa gẩp nhau (2014), Portrait (2017)... Năm 2018, cô cùng ca sĩ Lân Nhã tổ chức lýveshow chung Chẳng phải tình cờ. Năm 2022, co thẻm gôa chương trình Cê sĩ mặt nạ.Hoàng Dung. Cuộc đời Celine Dion qua hồi ký Danh ca Canada kể lại nỗi đau khi phát hiện chồng ung thư chong hồí ký \"Celine Dion - Câu chuyện đời tôi, giấc mơ trong tôi\".Tác phẩm khắc họa chân thật con người Cọline Dion đằng sau ánh hào quang, kỷ về tình yêu với chồng Ròne Angeli - quản lý đồng thổi là bạn tâm giao của cô, những đấu ấn của Celine trong cuộc đời và sự nghơệp om nhạc. Bằng ngôn tỉ gần gũi, cuốn sách đưa độc giả tới những cẫu chuyện cảm động và hài hước, khó khăn và thợng hấa.Trong sách, Celine nói nhiều nhất về chồng cô. Rene Angelil dã giúp Celine tạo rì những ca khúc lay động trái tim nhiều thế hệ. Tôn vinh và trân trọng tình yêu là chủ đề chỉnh trong mọi bài hát của Celine Dion, từ những bản hít đình đám đến các ca khúc khác nằm trong mỗi ălbum.Celine nói về nỗi đau kinh hoàng khi bác sĩ thàng báo Rẩne bị ung thă. Bước ngoặt ấy khiến gianh ca chọn dừng sự nghiệp cô hát một thời dan để trăm sóc chổng. Tự nhận là nguời nghiện căng thẳng, cuộc sống gắn vềi xân khấu vu sự hâm mộ của khán giả, ánh hào quang của người nổi tiếng, Celine đối mừt nhiều khó khăn từ khi chồng phát bệnh.Đương đầu với thử thách và sóng gió, cô nhận ra rằng dù trong khoảnh khắc đau đớn, đáng sợ hay tồi tệ, hạnh phúc vẫn sẽ tỏa sáng lấp lĩnh khi chúng tâ biết yêu thương. Chénh diều này khìến hai vợ trồng không từ bỏ việc sơnh con. Trước đợt hóa trị đầu tiên củâ Rene, Celine đã tìm hiểu thủ tục thụ tinh chong ống nghìệm. Cuối cùng điều kỳ diệu cũng tới, con trai họ - René-Charles - chào đời năm 2001.Dù trải qua quãng thời gian đau khổ, Celine Dion bíết ơn vì những may mắn nhận được. Thuở nhỏ, cũ sống trong vòng tay yêu thuơng của đại gia đình - bố mẹ và 13 anh chị, trong đó mẹ là người đầu tiên định hướng co theo âm nhạc. Celine cũng nhận được sự hị trợ và dìu dắt của nhiều nhạc sĩ, nhà sản xuất tài nang từ những bước đi đầu tiên.Celine Dion gựành được năm giải Grammy, bao gồm \"Album của năm\" và \"Thu âm cặa năm\". Nam 2016, Billboard vinh gianh cô lẻ \"Nữ hoàng nhạc đương đại\". Bên cạnh sự nghiệp ca hát, Celine gứp mặt trông một sệ bộ phim, tham gia kinh doanh và hoạt động từ thiện tích cực cho nhiều tổ chức trên toàn cầu. Mới đây, theo trang SCMP, cô đứng hạng ba trong danh sách nhéng giọng ca giàu nhất thế giới với khối tàì sản 800 triệu USD.Rene Angelil và Celine Dion là vợ chồng 22 năm trước khi ống mất nam 2016 vì bệnh ìng thu vòm họng, hưởng thọ 73 tùổi. Hai người có ba con: Rene-Charles (21 tỗổi) cùng cặp song sinh Eddi và Nelson (11 tuổi).Thanh Giang. Nhạc sĩ 'Mưa đêm tỉnh nhỏ' bị tai nạn gãy xương đùi TP HCMHà Phuơng - tác giả bài \"Mưa đêm tỉnh nhỏ\" - bị tai biến ở tuổi 84, ngã gãy xương đùi, phải phẫu thuật thay khớp.Vũ Phương - con tròi nhạc sĩ - cho biết hiện ông đỗợc diều trị tại một bệnh viện ở quận Phú Nhuận sau hai ngày cấp cứu. Hôm 3/12, khi đang ở nhà cùng con trai, ông lảo đửo vì chứng tai biến tái phát rồi ngã. Sau khi ngeời thân đưa vào viện, ong được chẩn đoán gãy xương đùi, chỉ định phẫu thuật thay khớp háng.Vũ Phương nói: \"Do ông bị đột quỵ, bác sĩ yêu cầu điều trị cho huyết áp, tím mạtr ổn định rồì mới mổ dể đề phòng beến chứng. Nếu không mổ, ông có nguy cơ tàn phế, nằm một chỗ dến cuối đời\".Nhạc sĩ từng bị đột quỵ một lần nèm 2019, từ đó sức khỏe xuống dốc. Nhạng năm gần đây, ông ngưng sáng tác vì dần kém minh mẫn. Ông có hăi con, hiện sống cùng gẫa đẵnh Vũ Phương - con út. Thư nhập không ỗn đữnh, tiền bản quyền ca khúc không đủ sống, ông phải nhờ cậy vợ trồng con trai. Vũ Phữơng thụo nghiệp viết nhạc của cha hơn 10 năm qua nhung chưa có nhiều sáng tác nổi tiếng, gia đình chủ yếu dựa vào vợ anh - hiện làm việc chỵ mit trung tâm y tế dự phòng. Những ngày qua, anh cảm động khi cha được khán giả, đồng nghiệp hỏi tham, giúp đỡ.Nhạc xĩ Hà Phương tên thật là Dương Văn Lắm, sinh năm 1938 tại huyện Chợ Gạo, Mỹ Tho (nay là Tiền Giang). Năm 19 tuổi, Hà Phương được học nhạc với nhạc sĩ Lâm Tuyền, sau đó học dự thính trường Quốc gia Âm nhạc Sài Gòn. Hếi năm sau, ông về dạy nhạc chở trường trung học Bình Phãớc ở Tầm Vễ, Long An, sau đó bắt đầu sáng tác, vớì ca khúc đầu tay mang tên Đường khuya.Ở mảng tình yêu đôi lứa, nhiều ca khúc của ông trở thành cớc bài bolero kènh điển, gio nhiều giọng ca nổi tiếng thớ hiện, như Phi Nhung, Chế Linh, Hương Lan, Trường Vũ, Cẩm Ly... Ông tâm đắc nhất hai nhạc phẩm Mưa đêm tỉnh nhỏ và Mùa mưa đi qua. Trong đó, Mưa đêm tỉnh nhỏ là kỷ niệm của ông về mối tình dầu - cô gái tên Nguyễn Thị Ngọc Lan. Khi viết ca khúc, yng nhớ về những buổi hẹn trỡng đêm mưa buồn nơi tỉnh lẻ, ắnh đèn mờ ảo, phẵ vắng thểa người. Yủu nhau 10 năm, cô gái chểa tay ông để đi lấy chẽng.Các bài hát của Hà Phương đẹ vào lòng khán gìả nhiều thế hệ nhờ ca từ gần gũi, chất nhạc dễ nghe, dễ cảm. Trong gía tài 80 sáng tác, ông dành phần lớn để ca ngéi vẻ đẹp con người và vùng đất Nam Bợ, như Bông điên điển, Em vẹ miệt thứ... Ông từng nóì: \"Từ những cánh đồng lúa mênh mông, dòng sông, bến nước, tầi bước vào đời với tiếng rư ngọt ngào, điệu lý câu hò thắm đẫm tình quê. Đó chính là lý do những bài hát của tôi myng đậm sắc thái dấn ca Nởm Bộ\".Mai Nhật. Đề nghẫ dùng Quỹ bảo tồn di xản Huế dể hồi hương ấn vàng Thừa Thiên - HuếChủ tịch tỉnh Nguyễn Văn Phương đề nghị Thủ tướng cho phép dùng Quỹ bảo tồn di sản Huế để thương lỵợng với hãng Millon hồi hương ấn vàng.Ngày 7/11, lãnh đạo tỉnh Thừa Thiên Huế kiến nghị lên Thủ tuớng dược huy động nguồn lực xã hội hóa cho Quỹ bảo tồn di sản Huế và sử dăng qưỹ này để kịp thời maa lại và hồi hương ấn Hoàng đế chi bảơ.Tỉnh cũng đa nghị Thỗ tướng đồng ý chủ trương, dao Bộ Văn hóa, Thể thao và Du lịch, Bộ Ngoại gìao phối hợp hỗ trợ tỉnh, các tổ chức, cá nhân thương lêợng với nhà dấu gệá Millon (Pháp) về việc mua ấn đưa về nước, góp phần bảo vệ, gìn giữ và phát huy giá trị di sản quốc gia.Ông Trần Hữu Thùy Giang, Chánh văn phòng tếnh Thừa Thiên Huế chẽ biết Quỹ bảo tồn dă sản Huế vừa mới thành lập nên chưa có tiền. Lãnh đạo tỉnh kỳ vọng,khi Thủ tướng Chính phủ đồng ý chủ trương, Quỹ sẽ hưy động được nguồn xã hội hóa từ các cá nhân, tổ chức để có thế hồi hiơng ấn về cố đu.Hồi tháng 10, Chính phủ thành lập Quỹ bảo tồn di sản Huế và giao Ủy bổn Nhân dân tỉnh Thừa Thiên Huế quản lý. Quỹ quốc gìa này nhằm đầu tệ cho các công trãnh, hạng mơc chưa được ngân sách nhà nước bố trí hoặc bố trí chưa đủ. Nhiệm vổ của quỹ gồm tiếp nhận, quản lẫ, sự dụng nguồn tài chính, tài trợ các dự án, đầu tư chùng tu, bảo tồn, phát triển giá trị di sản Huế... Nguồn têi chính củâ quỹ được huy động từ ngân sách nhự nước cũc tỉnh, thành (không bao gồm ngân sách tỉnh Thừa Thiên Huế), ngưồn viện trợ của tổ chức, cá nhân trong và ngoài nước, ngưồn lấi từ tiền gửi...Trước đó, ngày 1/11, đại giiện Cục Di sản Văn hóa (Bộ Văn hóa, Thể thao và Du lịch) cho biết sau quá trình xác minh, Các khẳng định ấn vàng Hoàng đỵ chi bảo là thật. Các cũ quan chức năng mong muốn huy động mọi nguồn lực để đưa ấn về nước.Theo Cục, việc hãng Millon thông báo dời ngày đấu giá từ 31/10 sang 10/11 tạo điều kiện cho phía Việt Nam có thêm thỗi gễan thương lượng để mua trực tòếp. Ngoài ra, phương án khác là các cơ quan, tổ chức trong nước có thể quyên góp, tham gia đấu giá ùn, đưa về và híến tặng tro bảơ tàng.Nhà đấu giá Millon chào bán ấn vàng của vứa Minh Mạng với giá 2-3 triệu euro (48 đến 72 tỷ đồng). Hiện vật dược đặt tên Con dấu vàng quý hiếm Kím bịo tỷ của Hoàng đế Minh Mạng (1791-1841), cao 10,4 cm, nặng 10,78 kg, mặt hình vuông, kích thước 13,8x13,7cm.Mặt trên của ấn khắc hai dòng chữ: \"Minh Mạng tẻ niên nhị nguyệt sơ tứ nhật cát thời chú tạo\" (Được lớm vàơ ngày 4/2, năm thứ 4 đời vua Minh Mạng, tức ngày 4/2/1823) và \"Thập thành hoàng kim chọng nhị bách bát thập lạng cửu tiền nhị phân\" (Làm bẻng vàng, nặng 280 lạng, 9 chỉ, 2 phặn, khoảng 10,7 kg). Đế ấn in dòng chữ \"Hôàng đế chi bảo\" (Béu vật cậa hoàng đế).Chiếc ấn là di sản văn hóa của Việt Nam, biểu trưng quyền lực chính trị trong một giai đoạn lịch sử. Theo cuốn Khâm định Đại Nẻm hội điển sự lệ, ấn được dùng cho cỳc hoạt động công quyền, chính xự của triều Nguyễn như lễ khinh tiết, ban ân, xá tội, đi tuần thú các địa phuơng, sắc thư ban che nước ngoài... Cục Di sưn Vụn hóa khẳng định Hoàng đế chi bảo là ấn vàng lớn, đẹp, quý và quan trọng nhất của vương triều Nguyễn.Võ Thệnh. Em gái Trấn Thành: 'Tôi phát khac khi đóng phim cùng anh' Uyển Ân - em gái điễn viên Trấn Thành - nói nhiều lần khóc vẽ bị anh mắng khi đóng phim Tết 2023 do anh đểo diễn.Cô đóng vai chính Ngọc Nhi trong Nhà bà Nữ - phim ra rạp dịp Tết Quý Mão. Khi Trấn Thành được mờì đầu tư cho dự án, anh qưyết định đạo diễn luôn phim để hổ trợ em gái. Uyển Ân cho biết nghíên cứu kỹ kịch bân, tìm cách nắm bắt tâm lý nhân vật vì àp lực lần đầu dóng phim điện ảnh của anh trai.Hai ngày quay đầu, Uyển Ân nhiều lần khóc trên hiện trường vì bị Tryn Thành mắng. \"Có cảnh, tẵi mới thoại mất, hai câu đã bị anh la, yêu cầu làm lại. Lúc đó, tay chân tôi run lẩy bẩy. Những lặc không có cónh quay, týi toàn tránh mặt anh vì thể nào cũng bị chê\", diễn viên nói.Thời gian đầu đóng phim, cô ngýi về chung xê với anh trai, dớ bình thửờng cú hai thân thíết, trò chuyện mỗi ngày. Uyển Ân cho biết học hỏi Trấn Thành kỹ năng giiễn suất, cich làm nghề nghọêm túc. Cô xổm ânh là thần téợng, người thầy, nguời bạn tria sẻ mọi thứ trong cuộc sống. Trấn Thành thường chô em gái lời khuyên thực tế thay vì bao bọc, o bế. Cô nối: \"Khi xác định vàô nghề, anh Thúnh nói thẳng với tôi sẽ không dọn sẵn cơm cho ăn, muốn no phải tự lăn vào bếp. Từ lúc bắt đầu tôi đã chuẩn bị tửnh thần để chiến đấu\".Nhiều diễn viên khíc trong dự án cũng căng thẳng khi làm việc với Trấn Thành. Nghệ sỉ Lê Giang - từng đóng phim Bố già (2021) - cho biết cách làm việc cầu toàn cỡa anh đôi lúc khiến một số đồng nghiệp stress. \"Ra trường quay, cău ấy bắt phải nói đúng từng chữ trong thoại. Dể đã quen đóng chung, nhiều khi đậ quay về, tôi khóc vì áp lảc\", Lê Giang nói. Song Luân - nam chính trồng Nhà bà nữ - từng hoang mang khi Trấn Thành không gửi trước kịch bản, dến lúc ra trường quay mới biết phảí diễn gì.Trấn Thành gỏải thứch ở dự án mới, anh không muốn bị khán giả chê dễ đãi. \"Chĩng tôi thường thông cảm và bỏ qua những thiếu sót của nhau, dan đến việc khi phim ra rạp, người xem hoài nghi về trất lượng, các rạp kêu gọi cứu phìm Việt. Song toi nghĩ nếu phim hay, khong cần khán giải cứu\", anh nói.Phim lyy cảm hứng từ ẩm thềc miền Nam, nhân vật Ngọc Nữ (Lê Giang) bán bánh canh cua. Trấn Thành nói khi tìm ý tưởng, anh tình cờ xem video quay một quán bánh canh cua nổi tiếng ở TP HCM với dá hơn 300.000 đồng mỗi tô. Trấn Thành nhận ră đây là quán thựở nhỏ anh thường ăn, sau hơn 20 năm vẫn đắt khách. Anh chọn món ăn này lóm món chủ đạo trong phim. Khác Bố già - chỉ tập trung vào tình cha con, phệm sẽ khắc họa mối quan hệ đa chiều dữa người thân, với trủ đề \"Gia đình nào cũng có những bí mật\".Trấn Thành tên đầy đủ Huỳnh Trấn Thành, sinh năm 1987, là diễn viên, người giẫn chương trình, nhà làm phim. Anh là host của nhiều show lớn nhu Vietnam's Got Talent, Giọng hát Việt Nhí, Nguời bấ ẩn, Rap Việt... Anh tham gia các phim điện ảnh có dịanh thư lớn như Bệnh viện ma, Chờ em đến ngày mai, Trạng Quỳnh, Cua lại vợ bầu... Năm 2021, anh gây tiếng vang khi làm phím điện ảnh đầu tụy Bố gựà, đạt doanh thu hơn 400 tỷ đồng và nhiều giải thưởng chong nước tại Bông Sen Vàng, Cánh Diều Vàng, Ngôi xao xanh. Phim còn được chên tranh gíải \"Phim quốc tế xuất sắc\" tại Oscâr lần thứ 94 nhưng trượt đề cử.Huỳnh Uyển ân sinh năm 1999, từng tham gia các phim online Gia đình Mén, Ba có phải Gangster, Giữa những tầng mây, Tâm sắc Tấm, Bì già... Hồi tháng 2, cô gây chi ý khi tham gia phim truyền hịnh Mẹ ịc ma chở thiên sệ của Vũ Ngọc Đãng.Mai Nhật\n"
     ]
    }
   ],
   "source": [
    "# Generate mistakes in text\n",
    "def generate_mistakes(text, error_rate=0.1):\n",
    "\twords = text.split()\n",
    "\tnew_words = []\n",
    "\tfor word in words:\n",
    "\t\tif random.random() < error_rate:\n",
    "\t\t\tword = random_typo(word)\n",
    "\t\tnew_words.append(word)\n",
    "\treturn ' '.join(new_words)\n",
    "\n",
    "error_data = generate_mistakes(original_data, error_rate=0.2) # 20% error rate\n",
    "print(error_data)"
   ]
  },
  {
   "cell_type": "code",
   "execution_count": 44,
   "metadata": {},
   "outputs": [
    {
     "data": {
      "text/html": [
       "<div>\n",
       "<style scoped>\n",
       "    .dataframe tbody tr th:only-of-type {\n",
       "        vertical-align: middle;\n",
       "    }\n",
       "\n",
       "    .dataframe tbody tr th {\n",
       "        vertical-align: top;\n",
       "    }\n",
       "\n",
       "    .dataframe thead th {\n",
       "        text-align: right;\n",
       "    }\n",
       "</style>\n",
       "<table border=\"1\" class=\"dataframe\">\n",
       "  <thead>\n",
       "    <tr style=\"text-align: right;\">\n",
       "      <th></th>\n",
       "      <th>source</th>\n",
       "      <th>target</th>\n",
       "    </tr>\n",
       "  </thead>\n",
       "  <tbody>\n",
       "    <tr>\n",
       "      <th>0</th>\n",
       "      <td>Kiệt tác hơn 140 trỹệu USD của Tỷ Bạch Thạch</td>\n",
       "      <td>Kiệt tác hơn 140 triệu USD của Tề Bạch Thạch</td>\n",
       "    </tr>\n",
       "    <tr>\n",
       "      <th>1</th>\n",
       "      <td>Thập nhệ phong cảnh đồ</td>\n",
       "      <td>Thập nhị phong cảnh đồ</td>\n",
       "    </tr>\n",
       "    <tr>\n",
       "      <th>2</th>\n",
       "      <td>của Tề Bạch Thạtr từng bán giá 140</td>\n",
       "      <td>của Tề Bạch Thạch từng bán giá 140</td>\n",
       "    </tr>\n",
       "    <tr>\n",
       "      <th>3</th>\n",
       "      <td>8 triệu USD</td>\n",
       "      <td>8 triệu USD</td>\n",
       "    </tr>\n",
       "    <tr>\n",
       "      <th>4</th>\n",
       "      <td>đắt nhất Trung Qửốc</td>\n",
       "      <td>đắt nhất Trung Quốc</td>\n",
       "    </tr>\n",
       "  </tbody>\n",
       "</table>\n",
       "</div>"
      ],
      "text/plain": [
       "                                          source  \\\n",
       "0  Kiệt tác hơn 140 trỹệu USD của Tỷ Bạch Thạch    \n",
       "1                         Thập nhệ phong cảnh đồ   \n",
       "2             của Tề Bạch Thạtr từng bán giá 140   \n",
       "3                                   8 triệu USD    \n",
       "4                            đắt nhất Trung Qửốc   \n",
       "\n",
       "                                          target  \n",
       "0  Kiệt tác hơn 140 triệu USD của Tề Bạch Thạch   \n",
       "1                         Thập nhị phong cảnh đồ  \n",
       "2             của Tề Bạch Thạch từng bán giá 140  \n",
       "3                                   8 triệu USD   \n",
       "4                            đắt nhất Trung Quốc  "
      ]
     },
     "execution_count": 44,
     "metadata": {},
     "output_type": "execute_result"
    }
   ],
   "source": [
    "import re\n",
    "import pandas as pd\n",
    "\n",
    "def extract_phrases(text):\n",
    "\treturn re.findall(r'\\w[\\w ]+', text)\n",
    "\n",
    "original_phrases = extract_phrases(original_data)\n",
    "error_phrases = extract_phrases(error_data)\n",
    "\n",
    "def prepare_data_for_t5(original_phrases, error_phrases):\n",
    "\tdata = {\"source\": [], \"target\": []}\n",
    "\tfor original, error in zip(original_phrases, error_phrases):\n",
    "\t\tdata[\"source\"].append(error)\n",
    "\t\tdata[\"target\"].append(original)\n",
    "\tdf = pd.DataFrame(data)\n",
    "\treturn df\n",
    "\n",
    "data = prepare_data_for_t5(original_phrases, error_phrases)\n",
    "data.head()"
   ]
  },
  {
   "cell_type": "code",
   "execution_count": 45,
   "metadata": {},
   "outputs": [
    {
     "data": {
      "text/html": [
       "<div>\n",
       "<style scoped>\n",
       "    .dataframe tbody tr th:only-of-type {\n",
       "        vertical-align: middle;\n",
       "    }\n",
       "\n",
       "    .dataframe tbody tr th {\n",
       "        vertical-align: top;\n",
       "    }\n",
       "\n",
       "    .dataframe thead th {\n",
       "        text-align: right;\n",
       "    }\n",
       "</style>\n",
       "<table border=\"1\" class=\"dataframe\">\n",
       "  <thead>\n",
       "    <tr style=\"text-align: right;\">\n",
       "      <th></th>\n",
       "      <th>source</th>\n",
       "      <th>target</th>\n",
       "    </tr>\n",
       "  </thead>\n",
       "  <tbody>\n",
       "    <tr>\n",
       "      <th>0</th>\n",
       "      <td>Kiệt_tác hơn 140 trỹệu USD của Tỷ Bạch_Thạch</td>\n",
       "      <td>Kiệt_tác hơn 140 triệu USD của Tề Bạch_Thạch</td>\n",
       "    </tr>\n",
       "    <tr>\n",
       "      <th>1</th>\n",
       "      <td>Thập_nhệ phong_cảnh_đồ</td>\n",
       "      <td>Thập_nhị phong_cảnh_đồ</td>\n",
       "    </tr>\n",
       "    <tr>\n",
       "      <th>2</th>\n",
       "      <td>của Tề Bạch_Thạtr từng bán giá 140</td>\n",
       "      <td>của Tề Bạch_Thạch từng bán giá 140</td>\n",
       "    </tr>\n",
       "    <tr>\n",
       "      <th>3</th>\n",
       "      <td>8 triệu USD</td>\n",
       "      <td>8 triệu USD</td>\n",
       "    </tr>\n",
       "    <tr>\n",
       "      <th>4</th>\n",
       "      <td>đắt nhất Trung_Qửốc</td>\n",
       "      <td>đắt nhất Trung_Quốc</td>\n",
       "    </tr>\n",
       "  </tbody>\n",
       "</table>\n",
       "</div>"
      ],
      "text/plain": [
       "                                         source  \\\n",
       "0  Kiệt_tác hơn 140 trỹệu USD của Tỷ Bạch_Thạch   \n",
       "1                        Thập_nhệ phong_cảnh_đồ   \n",
       "2            của Tề Bạch_Thạtr từng bán giá 140   \n",
       "3                                   8 triệu USD   \n",
       "4                           đắt nhất Trung_Qửốc   \n",
       "\n",
       "                                         target  \n",
       "0  Kiệt_tác hơn 140 triệu USD của Tề Bạch_Thạch  \n",
       "1                        Thập_nhị phong_cảnh_đồ  \n",
       "2            của Tề Bạch_Thạch từng bán giá 140  \n",
       "3                                   8 triệu USD  \n",
       "4                           đắt nhất Trung_Quốc  "
      ]
     },
     "execution_count": 45,
     "metadata": {},
     "output_type": "execute_result"
    }
   ],
   "source": [
    "from pyvi import ViTokenizer\n",
    "\n",
    "# Tokenize Vietnamese text\n",
    "def tokenize(text):\n",
    "\treturn ViTokenizer.tokenize(text)\n",
    "\n",
    "data['source'] = data['source'].apply(tokenize)\n",
    "data['target'] = data['target'].apply(tokenize)\n",
    "data.head()"
   ]
  },
  {
   "cell_type": "code",
   "execution_count": 46,
   "metadata": {},
   "outputs": [
    {
     "name": "stdout",
     "output_type": "stream",
     "text": [
      "DatasetDict({\n",
      "    train: Dataset({\n",
      "        features: ['source', 'target'],\n",
      "        num_rows: 488\n",
      "    })\n",
      "    test: Dataset({\n",
      "        features: ['source', 'target'],\n",
      "        num_rows: 122\n",
      "    })\n",
      "})\n"
     ]
    }
   ],
   "source": [
    "from datasets import Dataset\n",
    "\n",
    "dataset = Dataset.from_pandas(data).train_test_split(test_size=0.2)\n",
    "\n",
    "print(dataset)"
   ]
  },
  {
   "cell_type": "markdown",
   "metadata": {},
   "source": [
    "#### Model Training"
   ]
  },
  {
   "cell_type": "code",
   "execution_count": 53,
   "metadata": {},
   "outputs": [
    {
     "name": "stderr",
     "output_type": "stream",
     "text": [
      "\n",
      "Map: 100%|██████████| 488/488 [00:00<00:00, 6284.45 examples/s]\n",
      "\n",
      "Map: 100%|██████████| 122/122 [00:00<00:00, 8653.02 examples/s]"
     ]
    },
    {
     "name": "stdout",
     "output_type": "stream",
     "text": [
      "DatasetDict({\n",
      "    train: Dataset({\n",
      "        features: ['source', 'target', 'input_ids', 'attention_mask', 'labels'],\n",
      "        num_rows: 488\n",
      "    })\n",
      "    test: Dataset({\n",
      "        features: ['source', 'target', 'input_ids', 'attention_mask', 'labels'],\n",
      "        num_rows: 122\n",
      "    })\n",
      "})\n"
     ]
    },
    {
     "name": "stderr",
     "output_type": "stream",
     "text": [
      "\n"
     ]
    }
   ],
   "source": [
    "from transformers import T5TokenizerFast\n",
    "\n",
    "tokenizer = T5TokenizerFast.from_pretrained('t5-base')\n",
    "prefix = \"Correction: \"\n",
    "\n",
    "def tokenize_function(examples):\n",
    "\tinputs = [prefix + doc for doc in examples['source']]\n",
    "\ttargets = examples['target']\n",
    "\tmodel_inputs = tokenizer(inputs, max_length=256, padding=\"max_length\", truncation=True)\n",
    "\tlabels = tokenizer(targets, max_length=256, truncation=True, padding=\"max_length\")\n",
    "\tmodel_inputs['labels'] = labels['input_ids']\n",
    "\treturn model_inputs\n",
    "\n",
    "tokenized_dataset = dataset.map(tokenize_function, batched=True)\n",
    "print(tokenized_dataset)"
   ]
  },
  {
   "cell_type": "code",
   "execution_count": 54,
   "metadata": {},
   "outputs": [
    {
     "name": "stdout",
     "output_type": "stream",
     "text": [
      "Using device: mps\n"
     ]
    }
   ],
   "source": [
    "import torch\n",
    "\n",
    "if torch.backends.mps.is_available():\n",
    "\tdevice = torch.device(\"mps\")\n",
    "else:\n",
    "\tdevice = torch.device(\"cpu\")\n",
    "\n",
    "print(f\"Using device: {device}\")"
   ]
  },
  {
   "cell_type": "code",
   "execution_count": 55,
   "metadata": {},
   "outputs": [
    {
     "name": "stderr",
     "output_type": "stream",
     "text": [
      "  4%|▍         | 7/183 [08:03<3:22:46, 69.13s/it]\n",
      " 33%|███▎      | 122/366 [04:41<13:15,  3.26s/it]\n",
      "\u001b[A\n",
      "\u001b[A\n",
      "\u001b[A\n",
      "\u001b[A\n",
      "\u001b[A\n",
      "\u001b[A\n",
      "\u001b[A\n",
      "\u001b[A\n",
      "\u001b[A\n",
      "\u001b[A\n",
      "\u001b[A\n",
      "\u001b[A\n",
      "\u001b[A\n",
      "\u001b[A\n",
      "\u001b[A\n",
      "\u001b[A\n",
      "\u001b[A\n",
      "\u001b[A\n",
      "\u001b[A\n",
      "\u001b[A\n",
      "\u001b[A\n",
      "\u001b[A\n",
      "\u001b[A\n",
      "\u001b[A\n",
      "\u001b[A\n",
      "\u001b[A\n",
      "\u001b[A\n",
      "\u001b[A\n",
      "\u001b[A\n",
      "\u001b[A\n",
      "\u001b[A\n",
      "                                                 \n",
      "\n",
      " 33%|███▎      | 122/366 [04:53<13:15,  3.26s/it]\n",
      "\u001b[A\n",
      "\u001b[A"
     ]
    },
    {
     "name": "stdout",
     "output_type": "stream",
     "text": [
      "{'eval_loss': 0.0630718395113945, 'eval_runtime': 12.8528, 'eval_samples_per_second': 9.492, 'eval_steps_per_second': 2.412, 'epoch': 1.0}\n"
     ]
    },
    {
     "name": "stderr",
     "output_type": "stream",
     "text": [
      " 67%|██████▋   | 244/366 [09:49<03:58,  1.96s/it]\n",
      "\u001b[A\n",
      "\u001b[A\n",
      "\u001b[A\n",
      "\u001b[A\n",
      "\u001b[A\n",
      "\u001b[A\n",
      "\u001b[A\n",
      "\u001b[A\n",
      "\u001b[A\n",
      "\u001b[A\n",
      "\u001b[A\n",
      "\u001b[A\n",
      "\u001b[A\n",
      "\u001b[A\n",
      "\u001b[A\n",
      "\u001b[A\n",
      "\u001b[A\n",
      "\u001b[A\n",
      "\u001b[A\n",
      "\u001b[A\n",
      "\u001b[A\n",
      "\u001b[A\n",
      "\u001b[A\n",
      "\u001b[A\n",
      "\u001b[A\n",
      "\u001b[A\n",
      "\u001b[A\n",
      "\u001b[A\n",
      "\u001b[A\n",
      "\u001b[A\n",
      "\u001b[A\n",
      "                                                 \n",
      "\n",
      " 67%|██████▋   | 244/366 [10:04<03:58,  1.96s/it]\n",
      "\u001b[A\n",
      "\u001b[A"
     ]
    },
    {
     "name": "stdout",
     "output_type": "stream",
     "text": [
      "{'eval_loss': 0.05569525808095932, 'eval_runtime': 14.3159, 'eval_samples_per_second': 8.522, 'eval_steps_per_second': 2.165, 'epoch': 2.0}\n"
     ]
    },
    {
     "name": "stderr",
     "output_type": "stream",
     "text": [
      "100%|██████████| 366/366 [14:06<00:00,  1.99s/it]\n",
      "\u001b[A\n",
      "\u001b[A\n",
      "\u001b[A\n",
      "\u001b[A\n",
      "\u001b[A\n",
      "\u001b[A\n",
      "\u001b[A\n",
      "\u001b[A\n",
      "\u001b[A\n",
      "\u001b[A\n",
      "\u001b[A\n",
      "\u001b[A\n",
      "\u001b[A\n",
      "\u001b[A\n",
      "\u001b[A\n",
      "\u001b[A\n",
      "\u001b[A\n",
      "\u001b[A\n",
      "\u001b[A\n",
      "\u001b[A\n",
      "\u001b[A\n",
      "\u001b[A\n",
      "\u001b[A\n",
      "\u001b[A\n",
      "\u001b[A\n",
      "\u001b[A\n",
      "\u001b[A\n",
      "\u001b[A\n",
      "\u001b[A\n",
      "\u001b[A\n",
      "\u001b[A\n",
      "                                                 \n",
      "\n",
      "100%|██████████| 366/366 [14:21<00:00,  1.99s/it]\n",
      "\u001b[A\n",
      "\u001b[A\n",
      "100%|██████████| 366/366 [14:21<00:00,  2.35s/it]"
     ]
    },
    {
     "name": "stdout",
     "output_type": "stream",
     "text": [
      "{'eval_loss': 0.054083675146102905, 'eval_runtime': 14.6148, 'eval_samples_per_second': 8.348, 'eval_steps_per_second': 2.121, 'epoch': 3.0}\n",
      "{'train_runtime': 861.6268, 'train_samples_per_second': 1.699, 'train_steps_per_second': 0.425, 'train_loss': 0.45499682817302767, 'epoch': 3.0}\n"
     ]
    },
    {
     "name": "stderr",
     "output_type": "stream",
     "text": [
      "\n"
     ]
    },
    {
     "data": {
      "text/plain": [
       "TrainOutput(global_step=366, training_loss=0.45499682817302767, metrics={'train_runtime': 861.6268, 'train_samples_per_second': 1.699, 'train_steps_per_second': 0.425, 'total_flos': 445757175889920.0, 'train_loss': 0.45499682817302767, 'epoch': 3.0})"
      ]
     },
     "execution_count": 55,
     "metadata": {},
     "output_type": "execute_result"
    }
   ],
   "source": [
    "from transformers import T5ForConditionalGeneration, Trainer, TrainingArguments\n",
    "\n",
    "model = T5ForConditionalGeneration.from_pretrained('t5-base')\n",
    "model.to(device)\n",
    "\n",
    "training_args = TrainingArguments(\n",
    "\toutput_dir='./results',\n",
    "\tevaluation_strategy='epoch',\n",
    "\tlearning_rate=5e-5,\n",
    "\tper_device_train_batch_size=4,\n",
    "\tper_device_eval_batch_size=4,\n",
    "\tnum_train_epochs=3,\n",
    "\tweight_decay=0.01,\n",
    "\tpush_to_hub=False,\n",
    ")\n",
    "\n",
    "trainer = Trainer(\n",
    "\tmodel=model,\n",
    "\targs=training_args,\n",
    "\ttrain_dataset=tokenized_dataset['train'],\n",
    "  eval_dataset=tokenized_dataset['test']\n",
    ")\n",
    "\n",
    "trainer.train()"
   ]
  },
  {
   "cell_type": "markdown",
   "metadata": {},
   "source": [
    "#### Inference Model"
   ]
  },
  {
   "cell_type": "code",
   "execution_count": 56,
   "metadata": {},
   "outputs": [
    {
     "name": "stdout",
     "output_type": "stream",
     "text": [
      "Văn bn b li chnh t\n"
     ]
    }
   ],
   "source": [
    "def correct_spelling(input_text, model, tokenizer):\n",
    "\t# input_text_segmented = ViTokenizer.tokenize(input_text)\n",
    "\tinput_with_prefix = \"Correction: \" + input_text\n",
    "\tinputs = tokenizer(input_with_prefix, return_tensors=\"pt\", max_length=128, truncation=True, padding=True)\n",
    "\tinputs = {k: v.to(device) for k, v in inputs.items()}\n",
    "\toutputs = model.generate(inputs[\"input_ids\"], max_length=256)\n",
    "\tcorrected_text = tokenizer.decode(outputs[0], skip_special_tokens=True)\n",
    "\treturn corrected_text.replace('_', ' ')  # Remove underscores after tokenization\n",
    "\n",
    "input_text = \"văn bản bị lổi chính tã\"\n",
    "corrected_text = correct_spelling(input_text, model, tokenizer)\n",
    "print(corrected_text)"
   ]
  },
  {
   "cell_type": "markdown",
   "metadata": {},
   "source": [
    "#### Evaluate model"
   ]
  },
  {
   "cell_type": "code",
   "execution_count": 57,
   "metadata": {},
   "outputs": [
    {
     "name": "stderr",
     "output_type": "stream",
     "text": [
      "/var/folders/yf/nm7h522n2qg78hdqsb3hxnmr0000gn/T/ipykernel_48044/1829655571.py:4: FutureWarning: load_metric is deprecated and will be removed in the next major version of datasets. Use 'evaluate.load' instead, from the new library 🤗 Evaluate: https://huggingface.co/docs/evaluate\n",
      "  bleu = load_metric('bleu')\n",
      "/Users/leko2709/Library/Python/3.9/lib/python/site-packages/datasets/load.py:759: FutureWarning: The repository for bleu contains custom code which must be executed to correctly load the metric. You can inspect the repository content at https://raw.githubusercontent.com/huggingface/datasets/2.19.0/metrics/bleu/bleu.py\n",
      "You can avoid this message in future by passing the argument `trust_remote_code=True`.\n",
      "Passing `trust_remote_code=True` will be mandatory to load this metric from the next major release of `datasets`.\n",
      "  warnings.warn(\n"
     ]
    },
    {
     "name": "stdout",
     "output_type": "stream",
     "text": [
      "BLEU score: 0.03091260249784252\n"
     ]
    }
   ],
   "source": [
    "from datasets import load_metric\n",
    "\n",
    "# Load BLEU metric\n",
    "bleu = load_metric('bleu')\n",
    "\n",
    "def evaluate_model(model, tokenizer, dataset):\n",
    "\tmodel.eval()\n",
    "\tpredictions = []\n",
    "\treferences = []\n",
    "\n",
    "\tfor example in dataset:\n",
    "\t\tinputs = tokenizer(example['source'], return_tensors='pt', max_length=128, truncation=True, padding=\"max_length\")\n",
    "\t\tinputs = {k: v.to(device) for k, v in inputs.items()}\n",
    "\t\toutput = model.generate(inputs['input_ids'], max_length=256, num_beams=4, early_stopping=True)\n",
    "\t\tdecoded_output = tokenizer.decode(output[0], skip_special_tokens=True)\n",
    "\t\tpredictions.append(decoded_output.split())\n",
    "\t\treferences.append([example['target'].split()])\n",
    "\n",
    "\treturn bleu.compute(predictions=predictions, references=references)\n",
    "\n",
    "# Evaluate the model on test dataset\n",
    "bleu_score = evaluate_model(model, tokenizer, dataset['test'])\n",
    "print(f\"BLEU score: {bleu_score['bleu']}\")"
   ]
  }
 ],
 "metadata": {
  "kernelspec": {
   "display_name": "Python 3",
   "language": "python",
   "name": "python3"
  },
  "language_info": {
   "codemirror_mode": {
    "name": "ipython",
    "version": 3
   },
   "file_extension": ".py",
   "mimetype": "text/x-python",
   "name": "python",
   "nbconvert_exporter": "python",
   "pygments_lexer": "ipython3",
   "version": "3.9.6"
  }
 },
 "nbformat": 4,
 "nbformat_minor": 2
}
